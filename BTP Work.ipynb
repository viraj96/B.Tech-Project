{
 "cells": [
  {
   "cell_type": "code",
   "execution_count": 1,
   "metadata": {},
   "outputs": [
    {
     "data": {
      "text/plain": [
       "{0: {'club': 'Mr. Hi'},\n",
       " 1: {'club': 'Mr. Hi'},\n",
       " 2: {'club': 'Mr. Hi'},\n",
       " 3: {'club': 'Mr. Hi'},\n",
       " 4: {'club': 'Mr. Hi'},\n",
       " 5: {'club': 'Mr. Hi'},\n",
       " 6: {'club': 'Mr. Hi'},\n",
       " 7: {'club': 'Mr. Hi'},\n",
       " 8: {'club': 'Mr. Hi'},\n",
       " 9: {'club': 'Officer'},\n",
       " 10: {'club': 'Mr. Hi'},\n",
       " 11: {'club': 'Mr. Hi'},\n",
       " 12: {'club': 'Mr. Hi'},\n",
       " 13: {'club': 'Mr. Hi'},\n",
       " 14: {'club': 'Officer'},\n",
       " 15: {'club': 'Officer'},\n",
       " 16: {'club': 'Mr. Hi'},\n",
       " 17: {'club': 'Mr. Hi'},\n",
       " 18: {'club': 'Officer'},\n",
       " 19: {'club': 'Mr. Hi'},\n",
       " 20: {'club': 'Officer'},\n",
       " 21: {'club': 'Mr. Hi'},\n",
       " 22: {'club': 'Officer'},\n",
       " 23: {'club': 'Officer'},\n",
       " 24: {'club': 'Officer'},\n",
       " 25: {'club': 'Officer'},\n",
       " 26: {'club': 'Officer'},\n",
       " 27: {'club': 'Officer'},\n",
       " 28: {'club': 'Officer'},\n",
       " 29: {'club': 'Officer'},\n",
       " 30: {'club': 'Officer'},\n",
       " 31: {'club': 'Officer'},\n",
       " 32: {'club': 'Officer'},\n",
       " 33: {'club': 'Officer'}}"
      ]
     },
     "execution_count": 1,
     "metadata": {},
     "output_type": "execute_result"
    }
   ],
   "source": [
    "import networkx as nx\n",
    "nx.__version__\n",
    "# graph = nx.read_gml('./karate/karate.gml')\n",
    "graph = nx.karate_club_graph()\n",
    "graph.node"
   ]
  },
  {
   "cell_type": "code",
   "execution_count": null,
   "metadata": {},
   "outputs": [],
   "source": [
    "budget = 10\n",
    "totalNodes = len(graph.nodes())\n",
    "import numpy as np\n",
    "from itertools import permutations\n",
    "nodesList = np.arange(totalNodes)\n",
    "tryAll = list(permutations(nodesList))\n",
    "# permutations = comb(totalNodes, budget, exact = True) * math.factorial(budget)"
   ]
  },
  {
   "cell_type": "code",
   "execution_count": null,
   "metadata": {},
   "outputs": [],
   "source": [
    "for perm in tryAll:\n",
    "    tempGraph = graph.copy()\n",
    "    for node in perm:\n",
    "        tempGraph.remove_node(node)\n",
    "        "
   ]
  }
 ],
 "metadata": {
  "kernelspec": {
   "display_name": "Python 2",
   "language": "python",
   "name": "python2"
  },
  "language_info": {
   "codemirror_mode": {
    "name": "ipython",
    "version": 2
   },
   "file_extension": ".py",
   "mimetype": "text/x-python",
   "name": "python",
   "nbconvert_exporter": "python",
   "pygments_lexer": "ipython2",
   "version": "2.7.6"
  }
 },
 "nbformat": 4,
 "nbformat_minor": 2
}
